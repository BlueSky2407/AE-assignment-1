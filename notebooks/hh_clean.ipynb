{
  "nbformat": 4,
  "nbformat_minor": 0,
  "metadata": {
    "colab": {
      "provenance": []
    },
    "kernelspec": {
      "name": "ir",
      "display_name": "R"
    },
    "language_info": {
      "name": "R"
    }
  },
  "cells": [
    {
      "cell_type": "code",
      "execution_count": null,
      "metadata": {
        "id": "ybxJs09lCalC",
        "colab": {
          "base_uri": "https://localhost:8080/"
        },
        "outputId": "80030cff-f8cb-458d-9ee0-7b92df6e17f2"
      },
      "outputs": [
        {
          "output_type": "stream",
          "name": "stderr",
          "text": [
            "\n",
            "Attaching package: ‘dplyr’\n",
            "\n",
            "\n",
            "The following objects are masked from ‘package:stats’:\n",
            "\n",
            "    filter, lag\n",
            "\n",
            "\n",
            "The following objects are masked from ‘package:base’:\n",
            "\n",
            "    intersect, setdiff, setequal, union\n",
            "\n",
            "\n"
          ]
        }
      ],
      "source": [
        "library(dplyr)\n",
        "library(readr)"
      ]
    },
    {
      "cell_type": "code",
      "source": [
        "load(\"/content/36151-0001-ind.rda\")\n",
        "ind <- da36151.0001"
      ],
      "metadata": {
        "id": "59siMaD2Cz90"
      },
      "execution_count": null,
      "outputs": []
    },
    {
      "cell_type": "code",
      "source": [
        "load(\"/content/36151-0002-hh.rda\")\n",
        "hh<- da36151.0001"
      ],
      "metadata": {
        "id": "wrxeENI3C3hi"
      },
      "execution_count": null,
      "outputs": []
    },
    {
      "cell_type": "code",
      "source": [
        "columns1 <- c(\"IDHH\", \"RO3\", \"ED5\", \"HHEDUCF\", \"HHEDUCM\", \"CS4\", \"CS5\", \"CS6\", \"CS22\", \"CS24\", \"CS25\", \"CS26\",\"CS27\", \"CS28\")\n",
        "ind <- ind %>% select(all_of(columns1))"
      ],
      "metadata": {
        "id": "K8wkQIG4C5-n"
      },
      "execution_count": null,
      "outputs": []
    },
    {
      "cell_type": "code",
      "source": [
        "columns2 <- c(\"IDHH\", \"INCOME\", \"URBAN2011\", \"ID11\", \"ID13\",\"STATEID\",\"NCHILDM\",\"NCHILDF\",\"NTEENM\",\"NTEENF\",\"ASSETS\")\n",
        "hh<- hh%>% select(all_of(columns2))"
      ],
      "metadata": {
        "id": "ffd9uNqGC8Xe"
      },
      "execution_count": null,
      "outputs": []
    },
    {
      "cell_type": "code",
      "source": [
        "ind <- ind %>% filter(!is.na(CS25) & !is.na(CS26))\n",
        "ind <- ind %>%\n",
        "  mutate(CS27 = ifelse(is.na(CS27), 0, CS27),\n",
        "         CS28 = ifelse(is.na(CS28), 0, CS28))"
      ],
      "metadata": {
        "id": "YjAuEgqcDBfQ"
      },
      "execution_count": null,
      "outputs": []
    },
    {
      "cell_type": "code",
      "source": [
        "ind <- ind %>%\n",
        "  mutate(ind_edu_exp = CS25 + CS26 + CS27 + CS28)"
      ],
      "metadata": {
        "id": "8_Oi-SLiDtQ9"
      },
      "execution_count": null,
      "outputs": []
    },
    {
      "cell_type": "code",
      "source": [
        "hh <- hh %>%\n",
        "  mutate(NCHILD = NCHILDM + NCHILDF + NTEENM + NTEENF)"
      ],
      "metadata": {
        "id": "eh4xkEVKV9eD"
      },
      "execution_count": null,
      "outputs": []
    },
    {
      "cell_type": "code",
      "source": [
        "ind <- ind %>%\n",
        "  filter(ED5 == \"(1) Yes 1\" & RO3 == \"(2) Female 2\")"
      ],
      "metadata": {
        "id": "5lfNv-r7DHjL"
      },
      "execution_count": null,
      "outputs": []
    },
    {
      "cell_type": "code",
      "source": [
        "ind <- ind %>%\n",
        "  group_by(IDHH) %>%\n",
        "  mutate(female_count = sum(RO3 == \"(2) Female 2\"))"
      ],
      "metadata": {
        "id": "-HJsJjnyDQYG"
      },
      "execution_count": null,
      "outputs": []
    },
    {
      "cell_type": "code",
      "source": [
        "ind <- ind %>%\n",
        "  select(-RO3,-ED5)"
      ],
      "metadata": {
        "id": "twf9G5glDjLG"
      },
      "execution_count": null,
      "outputs": []
    },
    {
      "cell_type": "code",
      "source": [
        "ind <- ind %>%\n",
        "  group_by(IDHH) %>%\n",
        "  mutate(female_edu_exp = sum(ind_edu_exp, na.rm = TRUE)) %>%\n",
        "  ungroup()"
      ],
      "metadata": {
        "id": "UP2IXpoHDnK2"
      },
      "execution_count": null,
      "outputs": []
    },
    {
      "cell_type": "code",
      "source": [
        "hh <- hh %>% filter(!is.na(ASSETS))"
      ],
      "metadata": {
        "id": "FujB8dhIXtBK"
      },
      "execution_count": null,
      "outputs": []
    },
    {
      "cell_type": "code",
      "source": [
        "hh_ind <- inner_join(hh, ind, by = \"IDHH\", relationship = \"many-to-many\")"
      ],
      "metadata": {
        "id": "30QRmObbDuu7"
      },
      "execution_count": null,
      "outputs": []
    },
    {
      "cell_type": "code",
      "source": [
        "#merged dataset\n",
        "hh_ind <- hh_ind %>% distinct()"
      ],
      "metadata": {
        "id": "FrsBcRRkDwzt"
      },
      "execution_count": null,
      "outputs": []
    },
    {
      "cell_type": "code",
      "source": [
        "nrow(hh_ind)"
      ],
      "metadata": {
        "colab": {
          "base_uri": "https://localhost:8080/",
          "height": 34
        },
        "id": "NJj46Wq6DzUH",
        "outputId": "77c1a5da-f124-415c-a963-9ed3321051dc"
      },
      "execution_count": null,
      "outputs": [
        {
          "output_type": "display_data",
          "data": {
            "text/html": [
              "24416"
            ],
            "text/markdown": "24416",
            "text/latex": "24416",
            "text/plain": [
              "[1] 24416"
            ]
          },
          "metadata": {}
        }
      ]
    },
    {
      "cell_type": "code",
      "source": [
        "write_csv(hh_ind, \"hh_ind.csv\")"
      ],
      "metadata": {
        "id": "CPu-3O6rEFqp"
      },
      "execution_count": null,
      "outputs": []
    },
    {
      "cell_type": "code",
      "source": [
        "extract_numeric <- function(x) {\n",
        "  as.numeric(gsub(\".*\\\\((\\\\d+)\\\\).*\", \"\\\\1\", x))\n",
        "}\n",
        "\n",
        "# List of columns to clean\n",
        "cols_to_clean <- c(\"URBAN2011\", \"ID11\", \"ID13\", \"HHEDUCF\", \"HHEDUCM\",\"CS4\",\"CS6\",\"CS22\",\"STATEID\")\n",
        "\n",
        "# Apply the function to the selected columns\n",
        "hh_ind[cols_to_clean] <- lapply(hh_ind[cols_to_clean], extract_numeric)"
      ],
      "metadata": {
        "id": "99B9n__HE8DL"
      },
      "execution_count": null,
      "outputs": []
    },
    {
      "cell_type": "code",
      "source": [
        "hh_ind <- hh_ind %>%\n",
        "  rename(\n",
        "  HH_INCOME = INCOME,\n",
        "    RELIGION = ID11,\n",
        "    CASTE = ID13,\n",
        "    SCHOOL_TYPE = CS4,\n",
        "    SCHOOL_DIST = CS5,\n",
        "    STANDARD = CS6,\n",
        "    FEES_BY_GOVT_DUMMY = CS22,\n",
        "    SCHOLARSHIP = CS24,\n",
        "    )"
      ],
      "metadata": {
        "id": "Eml1a_tlFMcZ"
      },
      "execution_count": null,
      "outputs": []
    },
    {
      "cell_type": "code",
      "source": [
        "hh_ind <- hh_ind %>%\n",
        "  select(-CS25,-CS26,-CS27,-CS28,-NCHILDM,-NCHILDF,-NTEENM,-NTEENF)"
      ],
      "metadata": {
        "id": "flWq_-nxFijf"
      },
      "execution_count": null,
      "outputs": []
    },
    {
      "cell_type": "code",
      "source": [
        "head(hh_ind)"
      ],
      "metadata": {
        "colab": {
          "base_uri": "https://localhost:8080/",
          "height": 306
        },
        "id": "rppEUKgdGuX-",
        "outputId": "e774bbd1-5369-4389-94b1-88d3112f229d"
      },
      "execution_count": null,
      "outputs": [
        {
          "output_type": "display_data",
          "data": {
            "text/html": [
              "<table class=\"dataframe\">\n",
              "<caption>A data.frame: 6 × 18</caption>\n",
              "<thead>\n",
              "\t<tr><th></th><th scope=col>IDHH</th><th scope=col>HH_INCOME</th><th scope=col>URBAN2011</th><th scope=col>RELIGION</th><th scope=col>CASTE</th><th scope=col>STATEID</th><th scope=col>ASSETS</th><th scope=col>NCHILD</th><th scope=col>HHEDUCF</th><th scope=col>HHEDUCM</th><th scope=col>SCHOOL_TYPE</th><th scope=col>SCHOOL_DIST</th><th scope=col>STANDARD</th><th scope=col>FEES_BY_GOVT_DUMMY</th><th scope=col>SCHOLARSHIP</th><th scope=col>ind_edu_exp</th><th scope=col>female_count</th><th scope=col>female_edu_exp</th></tr>\n",
              "\t<tr><th></th><th scope=col>&lt;fct&gt;</th><th scope=col>&lt;dbl&gt;</th><th scope=col>&lt;dbl&gt;</th><th scope=col>&lt;dbl&gt;</th><th scope=col>&lt;dbl&gt;</th><th scope=col>&lt;dbl&gt;</th><th scope=col>&lt;dbl&gt;</th><th scope=col>&lt;dbl&gt;</th><th scope=col>&lt;dbl&gt;</th><th scope=col>&lt;dbl&gt;</th><th scope=col>&lt;dbl&gt;</th><th scope=col>&lt;dbl&gt;</th><th scope=col>&lt;dbl&gt;</th><th scope=col>&lt;dbl&gt;</th><th scope=col>&lt;dbl&gt;</th><th scope=col>&lt;dbl&gt;</th><th scope=col>&lt;int&gt;</th><th scope=col>&lt;dbl&gt;</th></tr>\n",
              "</thead>\n",
              "<tbody>\n",
              "\t<tr><th scope=row>1</th><td>0102010101</td><td> 176100</td><td>0</td><td>2</td><td> 3</td><td>1</td><td>20</td><td>5</td><td> 8</td><td> 9</td><td>4</td><td> 3</td><td> 6</td><td>0</td><td>0</td><td>10600</td><td>2</td><td> 13400</td></tr>\n",
              "\t<tr><th scope=row>2</th><td>0102010101</td><td> 176100</td><td>0</td><td>2</td><td> 3</td><td>1</td><td>20</td><td>5</td><td> 8</td><td> 9</td><td>4</td><td> 3</td><td> 0</td><td>0</td><td>0</td><td> 2800</td><td>2</td><td> 13400</td></tr>\n",
              "\t<tr><th scope=row>3</th><td>0102010201</td><td>1039150</td><td>0</td><td>2</td><td>NA</td><td>1</td><td>24</td><td>8</td><td>12</td><td>16</td><td>2</td><td> 3</td><td> 9</td><td>0</td><td>0</td><td> 3200</td><td>4</td><td>120200</td></tr>\n",
              "\t<tr><th scope=row>4</th><td>0102010201</td><td>1039150</td><td>0</td><td>2</td><td>NA</td><td>1</td><td>24</td><td>8</td><td>12</td><td>16</td><td>4</td><td>24</td><td> 3</td><td>0</td><td>0</td><td>39000</td><td>4</td><td>120200</td></tr>\n",
              "\t<tr><th scope=row>5</th><td>0102010201</td><td>1039150</td><td>0</td><td>2</td><td>NA</td><td>1</td><td>24</td><td>8</td><td>12</td><td>16</td><td>4</td><td>24</td><td> 2</td><td>0</td><td>0</td><td>39000</td><td>4</td><td>120200</td></tr>\n",
              "\t<tr><th scope=row>6</th><td>0102010301</td><td> 182340</td><td>0</td><td>2</td><td> 3</td><td>1</td><td>22</td><td>4</td><td>11</td><td>10</td><td>4</td><td> 3</td><td>10</td><td>0</td><td>0</td><td> 3900</td><td>2</td><td>  6580</td></tr>\n",
              "</tbody>\n",
              "</table>\n"
            ],
            "text/markdown": "\nA data.frame: 6 × 18\n\n| <!--/--> | IDHH &lt;fct&gt; | HH_INCOME &lt;dbl&gt; | URBAN2011 &lt;dbl&gt; | RELIGION &lt;dbl&gt; | CASTE &lt;dbl&gt; | STATEID &lt;dbl&gt; | ASSETS &lt;dbl&gt; | NCHILD &lt;dbl&gt; | HHEDUCF &lt;dbl&gt; | HHEDUCM &lt;dbl&gt; | SCHOOL_TYPE &lt;dbl&gt; | SCHOOL_DIST &lt;dbl&gt; | STANDARD &lt;dbl&gt; | FEES_BY_GOVT_DUMMY &lt;dbl&gt; | SCHOLARSHIP &lt;dbl&gt; | ind_edu_exp &lt;dbl&gt; | female_count &lt;int&gt; | female_edu_exp &lt;dbl&gt; |\n|---|---|---|---|---|---|---|---|---|---|---|---|---|---|---|---|---|---|---|\n| 1 | 0102010101 |  176100 | 0 | 2 |  3 | 1 | 20 | 5 |  8 |  9 | 4 |  3 |  6 | 0 | 0 | 10600 | 2 |  13400 |\n| 2 | 0102010101 |  176100 | 0 | 2 |  3 | 1 | 20 | 5 |  8 |  9 | 4 |  3 |  0 | 0 | 0 |  2800 | 2 |  13400 |\n| 3 | 0102010201 | 1039150 | 0 | 2 | NA | 1 | 24 | 8 | 12 | 16 | 2 |  3 |  9 | 0 | 0 |  3200 | 4 | 120200 |\n| 4 | 0102010201 | 1039150 | 0 | 2 | NA | 1 | 24 | 8 | 12 | 16 | 4 | 24 |  3 | 0 | 0 | 39000 | 4 | 120200 |\n| 5 | 0102010201 | 1039150 | 0 | 2 | NA | 1 | 24 | 8 | 12 | 16 | 4 | 24 |  2 | 0 | 0 | 39000 | 4 | 120200 |\n| 6 | 0102010301 |  182340 | 0 | 2 |  3 | 1 | 22 | 4 | 11 | 10 | 4 |  3 | 10 | 0 | 0 |  3900 | 2 |   6580 |\n\n",
            "text/latex": "A data.frame: 6 × 18\n\\begin{tabular}{r|llllllllllllllllll}\n  & IDHH & HH\\_INCOME & URBAN2011 & RELIGION & CASTE & STATEID & ASSETS & NCHILD & HHEDUCF & HHEDUCM & SCHOOL\\_TYPE & SCHOOL\\_DIST & STANDARD & FEES\\_BY\\_GOVT\\_DUMMY & SCHOLARSHIP & ind\\_edu\\_exp & female\\_count & female\\_edu\\_exp\\\\\n  & <fct> & <dbl> & <dbl> & <dbl> & <dbl> & <dbl> & <dbl> & <dbl> & <dbl> & <dbl> & <dbl> & <dbl> & <dbl> & <dbl> & <dbl> & <dbl> & <int> & <dbl>\\\\\n\\hline\n\t1 & 0102010101 &  176100 & 0 & 2 &  3 & 1 & 20 & 5 &  8 &  9 & 4 &  3 &  6 & 0 & 0 & 10600 & 2 &  13400\\\\\n\t2 & 0102010101 &  176100 & 0 & 2 &  3 & 1 & 20 & 5 &  8 &  9 & 4 &  3 &  0 & 0 & 0 &  2800 & 2 &  13400\\\\\n\t3 & 0102010201 & 1039150 & 0 & 2 & NA & 1 & 24 & 8 & 12 & 16 & 2 &  3 &  9 & 0 & 0 &  3200 & 4 & 120200\\\\\n\t4 & 0102010201 & 1039150 & 0 & 2 & NA & 1 & 24 & 8 & 12 & 16 & 4 & 24 &  3 & 0 & 0 & 39000 & 4 & 120200\\\\\n\t5 & 0102010201 & 1039150 & 0 & 2 & NA & 1 & 24 & 8 & 12 & 16 & 4 & 24 &  2 & 0 & 0 & 39000 & 4 & 120200\\\\\n\t6 & 0102010301 &  182340 & 0 & 2 &  3 & 1 & 22 & 4 & 11 & 10 & 4 &  3 & 10 & 0 & 0 &  3900 & 2 &   6580\\\\\n\\end{tabular}\n",
            "text/plain": [
              "  IDHH       HH_INCOME URBAN2011 RELIGION CASTE STATEID ASSETS NCHILD HHEDUCF\n",
              "1 0102010101  176100   0         2         3    1       20     5       8     \n",
              "2 0102010101  176100   0         2         3    1       20     5       8     \n",
              "3 0102010201 1039150   0         2        NA    1       24     8      12     \n",
              "4 0102010201 1039150   0         2        NA    1       24     8      12     \n",
              "5 0102010201 1039150   0         2        NA    1       24     8      12     \n",
              "6 0102010301  182340   0         2         3    1       22     4      11     \n",
              "  HHEDUCM SCHOOL_TYPE SCHOOL_DIST STANDARD FEES_BY_GOVT_DUMMY SCHOLARSHIP\n",
              "1  9      4            3           6       0                  0          \n",
              "2  9      4            3           0       0                  0          \n",
              "3 16      2            3           9       0                  0          \n",
              "4 16      4           24           3       0                  0          \n",
              "5 16      4           24           2       0                  0          \n",
              "6 10      4            3          10       0                  0          \n",
              "  ind_edu_exp female_count female_edu_exp\n",
              "1 10600       2             13400        \n",
              "2  2800       2             13400        \n",
              "3  3200       4            120200        \n",
              "4 39000       4            120200        \n",
              "5 39000       4            120200        \n",
              "6  3900       2              6580        "
            ]
          },
          "metadata": {}
        }
      ]
    },
    {
      "cell_type": "code",
      "source": [
        "# Function to map education levels to years of education\n",
        "convert_to_years <- function(x) {\n",
        "  case_when(\n",
        "    is.na(x) ~ 0,          # Treat NA as no education\n",
        "    x == 0 ~ 0,            # No education\n",
        "    x == 55 ~ 0,           # Special case for <1 class\n",
        "    x >= 1 & x <= 14 ~ x,  # School years map directly\n",
        "    x == 15 ~ 19,          # Bachelor's degree (16 -> 19 years)\n",
        "    x == 16 ~ 21,          # Above Bachelor's (Assuming Master's)\n",
        "    TRUE ~ NA_real_        # Keep any unexpected values as NA\n",
        "  )\n",
        "}\n",
        "\n",
        "# Apply the function to HHEDUCF and HHEDUCM\n",
        "hh_ind <- hh_ind %>%\n",
        "  mutate(\n",
        "    HHEDUCF_YEARS = convert_to_years(HHEDUCF),\n",
        "    HHEDUCM_YEARS = convert_to_years(HHEDUCM),\n",
        "    STANDARD = convert_to_years(STANDARD)\n",
        "  )\n"
      ],
      "metadata": {
        "id": "kD3zW8isKL0y"
      },
      "execution_count": null,
      "outputs": []
    },
    {
      "cell_type": "code",
      "source": [
        "hh_ind <- hh_ind %>%\n",
        "  select(-HHEDUCF,-HHEDUCM)"
      ],
      "metadata": {
        "id": "d_yo4J5RYh8V"
      },
      "execution_count": null,
      "outputs": []
    },
    {
      "cell_type": "code",
      "source": [
        "hh_ind <- hh_ind %>%\n",
        "  filter(!is.na(HHEDUCF_YEARS) & !is.na(HHEDUCM_YEARS) & !is.na(STANDARD))"
      ],
      "metadata": {
        "id": "L7qK2uLjLUKP"
      },
      "execution_count": null,
      "outputs": []
    },
    {
      "cell_type": "code",
      "source": [
        "hh_ind <- hh_ind %>%\n",
        "  mutate(\n",
        "    SCHOLARSHIP = ifelse(is.na(SCHOLARSHIP), 0, SCHOLARSHIP),\n",
        "    SCHOOL_DIST = ifelse(is.na(SCHOOL_DIST), 0, SCHOOL_DIST)\n",
        "  )"
      ],
      "metadata": {
        "id": "Fk1payDCZ_nO"
      },
      "execution_count": null,
      "outputs": []
    },
    {
      "cell_type": "code",
      "source": [
        "hh_ind <- hh_ind %>%\n",
        "  filter(!is.na(CASTE))"
      ],
      "metadata": {
        "id": "l95qd-QcZW7t"
      },
      "execution_count": null,
      "outputs": []
    },
    {
      "cell_type": "code",
      "source": [
        "# Recode the religion variable into 4 categories\n",
        "hh_ind <- hh_ind %>%\n",
        "  mutate(\n",
        "    RELIGION_GROUPED = case_when(\n",
        "      RELIGION == 1 ~ \"Hindu\",\n",
        "      RELIGION == 2 ~ \"Muslim\",\n",
        "      RELIGION %in% c(3, 4) ~ \"Christian_Sikh\",\n",
        "      RELIGION %in% c(5, 6, 7, 8, 9) ~ \"Other\"\n",
        "    )\n",
        "  )\n",
        "\n",
        "# Convert to factor\n",
        "hh_ind$RELIGION_GROUPED <- as.factor(hh_ind$RELIGION_GROUPED)"
      ],
      "metadata": {
        "id": "ewCeEClWUo-5"
      },
      "execution_count": null,
      "outputs": []
    },
    {
      "cell_type": "code",
      "source": [
        "#HINDU is the reference category\n",
        "hh_ind<- hh_ind%>%\n",
        "  mutate(\n",
        "    RELIGION_MUSLIM = ifelse(RELIGION_GROUPED == \"Muslim\", 1, 0),\n",
        "    RELIGION_CHRISTIAN_SIKH = ifelse(RELIGION_GROUPED == \"Christian_Sikh\", 1, 0),\n",
        "    RELIGION_OTHER = ifelse(RELIGION_GROUPED == \"Other\", 1, 0)\n",
        "  )"
      ],
      "metadata": {
        "id": "o0__KqQLUvHy"
      },
      "execution_count": null,
      "outputs": []
    },
    {
      "cell_type": "code",
      "source": [
        "# Recode the caste variable into 3 categories\n",
        "hh_ind<- hh_ind%>%\n",
        "  mutate(\n",
        "    CASTE_GROUPED = case_when(\n",
        "      CASTE %in% c(1,2) ~ \"General\",\n",
        "      CASTE == 3 ~ \"OBC\",\n",
        "      CASTE %in% c(4,5,6) ~ \"SC/ST/Others\"\n",
        "    )\n",
        "  )\n",
        "\n",
        "# Convert to factor\n",
        "hh_ind$CASTE_GROUPED <- as.factor(hh_ind$CASTE_GROUPED)"
      ],
      "metadata": {
        "id": "-6rsoCwUUvrV"
      },
      "execution_count": null,
      "outputs": []
    },
    {
      "cell_type": "code",
      "source": [
        "#OBC is reference category\n",
        "hh_ind<- hh_ind%>%\n",
        "  mutate(\n",
        "    CASTE_GENERAL = ifelse(CASTE_GROUPED == \"General\", 1, 0),\n",
        "    CASTE_SC_ST_OTHERS= ifelse(CASTE_GROUPED == \"SC/ST/Others\", 1, 0)\n",
        "  )"
      ],
      "metadata": {
        "id": "oofGG4bKUyUs"
      },
      "execution_count": null,
      "outputs": []
    },
    {
      "cell_type": "code",
      "source": [
        "# hh_ind <- hh_ind %>%\n",
        "#   filter(SCHOOL_TYPE %in% c(2, 3, 4))"
      ],
      "metadata": {
        "id": "a2Ek6YJUYXLS"
      },
      "execution_count": null,
      "outputs": []
    },
    {
      "cell_type": "code",
      "source": [
        "# Recode the caste variable into 3 categories\n",
        "# hh_ind<- hh_ind%>%\n",
        "#   mutate(\n",
        "#     SCHOOL_TYPE_GROUPED = case_when(\n",
        "#       SCHOOL_TYPE == 2 ~ \"GOVERNMENT\",\n",
        "#       SCHOOL_TYPE == 3 ~ \"GOVT_AIDED\",\n",
        "#       SCHOOL_TYPE == 4 ~ \"PRIVATE\"\n",
        "#     )\n",
        "#   )\n",
        "\n",
        "# # Convert to factor\n",
        "# hh_ind$SCHOOL_TYPE_GROUPED <- as.factor(hh_ind$SCHOOL_TYPE_GROUPED)"
      ],
      "metadata": {
        "id": "Eyd9FDpTYgba"
      },
      "execution_count": null,
      "outputs": []
    },
    {
      "cell_type": "code",
      "source": [
        "# hh_ind<- hh_ind%>%\n",
        "#   mutate(\n",
        "#     SCHOOL_PRIVATE = ifelse(SCHOOL_TYPE_GROUPED == \"PRIVATE\", 1, 0),\n",
        "#     SCHOOL_GOVT_AIDED = ifelse(SCHOOL_TYPE_GROUPED == \"GOVT_AIDED\", 1, 0)\n",
        "#   )"
      ],
      "metadata": {
        "id": "hE5AKzVDZH1S"
      },
      "execution_count": null,
      "outputs": []
    },
    {
      "cell_type": "code",
      "source": [
        "hh_ind <- hh_ind %>%\n",
        "  select(-RELIGION_GROUPED,-CASTE_GROUPED,-RELIGION,-CASTE,-SCHOOL_TYPE,-SCHOOL_DIST,-FEES_BY_GOVT_DUMMY,-SCHOLARSHIP,-STATEID)"
      ],
      "metadata": {
        "id": "XjRSh2XsZ1Fe"
      },
      "execution_count": null,
      "outputs": []
    },
    {
      "cell_type": "code",
      "source": [
        "head(hh_ind)"
      ],
      "metadata": {
        "colab": {
          "base_uri": "https://localhost:8080/",
          "height": 306
        },
        "id": "Q1swXFz9xjL4",
        "outputId": "b26f5ad3-5202-4e60-dcb3-230446352983"
      },
      "execution_count": null,
      "outputs": [
        {
          "output_type": "display_data",
          "data": {
            "text/html": [
              "<table class=\"dataframe\">\n",
              "<caption>A data.frame: 6 × 16</caption>\n",
              "<thead>\n",
              "\t<tr><th></th><th scope=col>IDHH</th><th scope=col>HH_INCOME</th><th scope=col>URBAN2011</th><th scope=col>ASSETS</th><th scope=col>NCHILD</th><th scope=col>STANDARD</th><th scope=col>ind_edu_exp</th><th scope=col>female_count</th><th scope=col>female_edu_exp</th><th scope=col>HHEDUCF_YEARS</th><th scope=col>HHEDUCM_YEARS</th><th scope=col>RELIGION_MUSLIM</th><th scope=col>RELIGION_CHRISTIAN_SIKH</th><th scope=col>RELIGION_OTHER</th><th scope=col>CASTE_GENERAL</th><th scope=col>CASTE_SC_ST_OTHERS</th></tr>\n",
              "\t<tr><th></th><th scope=col>&lt;fct&gt;</th><th scope=col>&lt;dbl&gt;</th><th scope=col>&lt;dbl&gt;</th><th scope=col>&lt;dbl&gt;</th><th scope=col>&lt;dbl&gt;</th><th scope=col>&lt;dbl&gt;</th><th scope=col>&lt;dbl&gt;</th><th scope=col>&lt;int&gt;</th><th scope=col>&lt;dbl&gt;</th><th scope=col>&lt;dbl&gt;</th><th scope=col>&lt;dbl&gt;</th><th scope=col>&lt;dbl&gt;</th><th scope=col>&lt;dbl&gt;</th><th scope=col>&lt;dbl&gt;</th><th scope=col>&lt;dbl&gt;</th><th scope=col>&lt;dbl&gt;</th></tr>\n",
              "</thead>\n",
              "<tbody>\n",
              "\t<tr><th scope=row>1</th><td>0102010101</td><td>176100</td><td>0</td><td>20</td><td>5</td><td> 6</td><td>10600</td><td>2</td><td>13400</td><td> 8</td><td> 9</td><td>1</td><td>0</td><td>0</td><td>0</td><td>0</td></tr>\n",
              "\t<tr><th scope=row>2</th><td>0102010101</td><td>176100</td><td>0</td><td>20</td><td>5</td><td> 0</td><td> 2800</td><td>2</td><td>13400</td><td> 8</td><td> 9</td><td>1</td><td>0</td><td>0</td><td>0</td><td>0</td></tr>\n",
              "\t<tr><th scope=row>3</th><td>0102010301</td><td>182340</td><td>0</td><td>22</td><td>4</td><td>10</td><td> 3900</td><td>2</td><td> 6580</td><td>11</td><td>10</td><td>1</td><td>0</td><td>0</td><td>0</td><td>0</td></tr>\n",
              "\t<tr><th scope=row>4</th><td>0102010301</td><td>182340</td><td>0</td><td>22</td><td>4</td><td> 5</td><td> 2680</td><td>2</td><td> 6580</td><td>11</td><td>10</td><td>1</td><td>0</td><td>0</td><td>0</td><td>0</td></tr>\n",
              "\t<tr><th scope=row>5</th><td>0102010401</td><td> 90760</td><td>0</td><td>16</td><td>3</td><td> 8</td><td> 1150</td><td>1</td><td> 1150</td><td> 0</td><td> 0</td><td>1</td><td>0</td><td>0</td><td>1</td><td>0</td></tr>\n",
              "\t<tr><th scope=row>6</th><td>0102010601</td><td>152100</td><td>0</td><td>12</td><td>4</td><td> 0</td><td>  220</td><td>1</td><td>  220</td><td> 9</td><td> 0</td><td>1</td><td>0</td><td>0</td><td>0</td><td>0</td></tr>\n",
              "</tbody>\n",
              "</table>\n"
            ],
            "text/markdown": "\nA data.frame: 6 × 16\n\n| <!--/--> | IDHH &lt;fct&gt; | HH_INCOME &lt;dbl&gt; | URBAN2011 &lt;dbl&gt; | ASSETS &lt;dbl&gt; | NCHILD &lt;dbl&gt; | STANDARD &lt;dbl&gt; | ind_edu_exp &lt;dbl&gt; | female_count &lt;int&gt; | female_edu_exp &lt;dbl&gt; | HHEDUCF_YEARS &lt;dbl&gt; | HHEDUCM_YEARS &lt;dbl&gt; | RELIGION_MUSLIM &lt;dbl&gt; | RELIGION_CHRISTIAN_SIKH &lt;dbl&gt; | RELIGION_OTHER &lt;dbl&gt; | CASTE_GENERAL &lt;dbl&gt; | CASTE_SC_ST_OTHERS &lt;dbl&gt; |\n|---|---|---|---|---|---|---|---|---|---|---|---|---|---|---|---|---|\n| 1 | 0102010101 | 176100 | 0 | 20 | 5 |  6 | 10600 | 2 | 13400 |  8 |  9 | 1 | 0 | 0 | 0 | 0 |\n| 2 | 0102010101 | 176100 | 0 | 20 | 5 |  0 |  2800 | 2 | 13400 |  8 |  9 | 1 | 0 | 0 | 0 | 0 |\n| 3 | 0102010301 | 182340 | 0 | 22 | 4 | 10 |  3900 | 2 |  6580 | 11 | 10 | 1 | 0 | 0 | 0 | 0 |\n| 4 | 0102010301 | 182340 | 0 | 22 | 4 |  5 |  2680 | 2 |  6580 | 11 | 10 | 1 | 0 | 0 | 0 | 0 |\n| 5 | 0102010401 |  90760 | 0 | 16 | 3 |  8 |  1150 | 1 |  1150 |  0 |  0 | 1 | 0 | 0 | 1 | 0 |\n| 6 | 0102010601 | 152100 | 0 | 12 | 4 |  0 |   220 | 1 |   220 |  9 |  0 | 1 | 0 | 0 | 0 | 0 |\n\n",
            "text/latex": "A data.frame: 6 × 16\n\\begin{tabular}{r|llllllllllllllll}\n  & IDHH & HH\\_INCOME & URBAN2011 & ASSETS & NCHILD & STANDARD & ind\\_edu\\_exp & female\\_count & female\\_edu\\_exp & HHEDUCF\\_YEARS & HHEDUCM\\_YEARS & RELIGION\\_MUSLIM & RELIGION\\_CHRISTIAN\\_SIKH & RELIGION\\_OTHER & CASTE\\_GENERAL & CASTE\\_SC\\_ST\\_OTHERS\\\\\n  & <fct> & <dbl> & <dbl> & <dbl> & <dbl> & <dbl> & <dbl> & <int> & <dbl> & <dbl> & <dbl> & <dbl> & <dbl> & <dbl> & <dbl> & <dbl>\\\\\n\\hline\n\t1 & 0102010101 & 176100 & 0 & 20 & 5 &  6 & 10600 & 2 & 13400 &  8 &  9 & 1 & 0 & 0 & 0 & 0\\\\\n\t2 & 0102010101 & 176100 & 0 & 20 & 5 &  0 &  2800 & 2 & 13400 &  8 &  9 & 1 & 0 & 0 & 0 & 0\\\\\n\t3 & 0102010301 & 182340 & 0 & 22 & 4 & 10 &  3900 & 2 &  6580 & 11 & 10 & 1 & 0 & 0 & 0 & 0\\\\\n\t4 & 0102010301 & 182340 & 0 & 22 & 4 &  5 &  2680 & 2 &  6580 & 11 & 10 & 1 & 0 & 0 & 0 & 0\\\\\n\t5 & 0102010401 &  90760 & 0 & 16 & 3 &  8 &  1150 & 1 &  1150 &  0 &  0 & 1 & 0 & 0 & 1 & 0\\\\\n\t6 & 0102010601 & 152100 & 0 & 12 & 4 &  0 &   220 & 1 &   220 &  9 &  0 & 1 & 0 & 0 & 0 & 0\\\\\n\\end{tabular}\n",
            "text/plain": [
              "  IDHH       HH_INCOME URBAN2011 ASSETS NCHILD STANDARD ind_edu_exp\n",
              "1 0102010101 176100    0         20     5       6       10600      \n",
              "2 0102010101 176100    0         20     5       0        2800      \n",
              "3 0102010301 182340    0         22     4      10        3900      \n",
              "4 0102010301 182340    0         22     4       5        2680      \n",
              "5 0102010401  90760    0         16     3       8        1150      \n",
              "6 0102010601 152100    0         12     4       0         220      \n",
              "  female_count female_edu_exp HHEDUCF_YEARS HHEDUCM_YEARS RELIGION_MUSLIM\n",
              "1 2            13400           8             9            1              \n",
              "2 2            13400           8             9            1              \n",
              "3 2             6580          11            10            1              \n",
              "4 2             6580          11            10            1              \n",
              "5 1             1150           0             0            1              \n",
              "6 1              220           9             0            1              \n",
              "  RELIGION_CHRISTIAN_SIKH RELIGION_OTHER CASTE_GENERAL CASTE_SC_ST_OTHERS\n",
              "1 0                       0              0             0                 \n",
              "2 0                       0              0             0                 \n",
              "3 0                       0              0             0                 \n",
              "4 0                       0              0             0                 \n",
              "5 0                       0              1             0                 \n",
              "6 0                       0              0             0                 "
            ]
          },
          "metadata": {}
        }
      ]
    },
    {
      "cell_type": "code",
      "source": [
        "save(hh_ind, file = \"hh_ind.rda\")\n",
        "write.csv(hh_ind,\"hh_ind.csv\")"
      ],
      "metadata": {
        "id": "_ElrugHUSNR1"
      },
      "execution_count": null,
      "outputs": []
    },
    {
      "cell_type": "code",
      "source": [
        "nrow(hh_ind)"
      ],
      "metadata": {
        "id": "Dm1z06s5VJhH",
        "colab": {
          "base_uri": "https://localhost:8080/",
          "height": 34
        },
        "outputId": "c6950f52-db60-4bd8-927a-983b1c9bb6f4"
      },
      "execution_count": null,
      "outputs": [
        {
          "output_type": "display_data",
          "data": {
            "text/html": [
              "24372"
            ],
            "text/markdown": "24372",
            "text/latex": "24372",
            "text/plain": [
              "[1] 24372"
            ]
          },
          "metadata": {}
        }
      ]
    }
  ]
}